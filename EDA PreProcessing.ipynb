{
 "cells": [
  {
   "cell_type": "code",
   "execution_count": 1,
   "id": "d5b404b2",
   "metadata": {},
   "outputs": [
    {
     "data": {
      "text/html": [
       "<div>\n",
       "<style scoped>\n",
       "    .dataframe tbody tr th:only-of-type {\n",
       "        vertical-align: middle;\n",
       "    }\n",
       "\n",
       "    .dataframe tbody tr th {\n",
       "        vertical-align: top;\n",
       "    }\n",
       "\n",
       "    .dataframe thead th {\n",
       "        text-align: right;\n",
       "    }\n",
       "</style>\n",
       "<table border=\"1\" class=\"dataframe\">\n",
       "  <thead>\n",
       "    <tr style=\"text-align: right;\">\n",
       "      <th></th>\n",
       "      <th>Title</th>\n",
       "      <th>Category Name</th>\n",
       "      <th>Experience</th>\n",
       "      <th>Sub Category Name</th>\n",
       "      <th>Currency</th>\n",
       "      <th>Budget</th>\n",
       "      <th>Location</th>\n",
       "      <th>Freelancer Preferred From</th>\n",
       "      <th>Type</th>\n",
       "      <th>Date Posted</th>\n",
       "      <th>Description</th>\n",
       "      <th>Duration</th>\n",
       "      <th>Client Registration Date</th>\n",
       "      <th>Client City</th>\n",
       "      <th>Client Country</th>\n",
       "      <th>Client Currency</th>\n",
       "      <th>Client Job Title</th>\n",
       "    </tr>\n",
       "  </thead>\n",
       "  <tbody>\n",
       "    <tr>\n",
       "      <th>0</th>\n",
       "      <td>Amazon Product Online Marketing v2</td>\n",
       "      <td>Digital Marketing</td>\n",
       "      <td>Intermediate ($$)</td>\n",
       "      <td>Influencer Marketing</td>\n",
       "      <td>USD</td>\n",
       "      <td>50.0</td>\n",
       "      <td>remote</td>\n",
       "      <td>ALL</td>\n",
       "      <td>fixed_price</td>\n",
       "      <td>2023-04-06 18:12:37</td>\n",
       "      <td>What will you do: online marketing for a USA a...</td>\n",
       "      <td>NaN</td>\n",
       "      <td>2014-04-11</td>\n",
       "      <td>Amman</td>\n",
       "      <td>Jordan</td>\n",
       "      <td>USD</td>\n",
       "      <td>NaN</td>\n",
       "    </tr>\n",
       "    <tr>\n",
       "      <th>1</th>\n",
       "      <td>bbPress website fixes and amends - 1 day initi...</td>\n",
       "      <td>Technology &amp; Programming</td>\n",
       "      <td>Entry ($)</td>\n",
       "      <td>Website Development</td>\n",
       "      <td>GBP</td>\n",
       "      <td>20.0</td>\n",
       "      <td>remote</td>\n",
       "      <td>ALL</td>\n",
       "      <td>hourly</td>\n",
       "      <td>2023-04-06 17:59:48</td>\n",
       "      <td>Looking for a web developer with experience in...</td>\n",
       "      <td>NaN</td>\n",
       "      <td>2021-07-06</td>\n",
       "      <td>Kensington</td>\n",
       "      <td>United Kingdom</td>\n",
       "      <td>GBP</td>\n",
       "      <td>Web developer</td>\n",
       "    </tr>\n",
       "    <tr>\n",
       "      <th>2</th>\n",
       "      <td>High Quality Vector Images</td>\n",
       "      <td>Design</td>\n",
       "      <td>Expert ($$$)</td>\n",
       "      <td>Graphic Design</td>\n",
       "      <td>GBP</td>\n",
       "      <td>80.0</td>\n",
       "      <td>remote</td>\n",
       "      <td>ALL</td>\n",
       "      <td>fixed_price</td>\n",
       "      <td>2023-04-06 17:48:31</td>\n",
       "      <td>I need 5 high quality vector images designed f...</td>\n",
       "      <td>NaN</td>\n",
       "      <td>2018-05-11</td>\n",
       "      <td>Manchester</td>\n",
       "      <td>United Kingdom</td>\n",
       "      <td>GBP</td>\n",
       "      <td>Wix Website Designer | Official Wix Partner</td>\n",
       "    </tr>\n",
       "    <tr>\n",
       "      <th>3</th>\n",
       "      <td>I need a web site</td>\n",
       "      <td>Technology &amp; Programming</td>\n",
       "      <td>Expert ($$$)</td>\n",
       "      <td>Website Development</td>\n",
       "      <td>GBP</td>\n",
       "      <td>275.0</td>\n",
       "      <td>remote</td>\n",
       "      <td>ALL</td>\n",
       "      <td>fixed_price</td>\n",
       "      <td>2023-04-06 17:50:08</td>\n",
       "      <td>Requires a person with experience creating a w...</td>\n",
       "      <td>NaN</td>\n",
       "      <td>2023-04-06</td>\n",
       "      <td>London</td>\n",
       "      <td>United Kingdom</td>\n",
       "      <td>GBP</td>\n",
       "      <td>NaN</td>\n",
       "    </tr>\n",
       "    <tr>\n",
       "      <th>4</th>\n",
       "      <td>I need someone to turn 4x phone images into Ph...</td>\n",
       "      <td>Design</td>\n",
       "      <td>Entry ($)</td>\n",
       "      <td>Graphic Design</td>\n",
       "      <td>GBP</td>\n",
       "      <td>50.0</td>\n",
       "      <td>remote</td>\n",
       "      <td>ALL</td>\n",
       "      <td>fixed_price</td>\n",
       "      <td>2023-04-06 17:48:31</td>\n",
       "      <td>Hi,\\n\\nI have 4x images (Some are attached, I ...</td>\n",
       "      <td>NaN</td>\n",
       "      <td>2014-02-13</td>\n",
       "      <td>Cardiff</td>\n",
       "      <td>United Kingdom</td>\n",
       "      <td>GBP</td>\n",
       "      <td>Freelance Graphic Designer</td>\n",
       "    </tr>\n",
       "  </tbody>\n",
       "</table>\n",
       "</div>"
      ],
      "text/plain": [
       "                                               Title  \\\n",
       "0                 Amazon Product Online Marketing v2   \n",
       "1  bbPress website fixes and amends - 1 day initi...   \n",
       "2                         High Quality Vector Images   \n",
       "3                                  I need a web site   \n",
       "4  I need someone to turn 4x phone images into Ph...   \n",
       "\n",
       "              Category Name         Experience     Sub Category Name Currency  \\\n",
       "0         Digital Marketing  Intermediate ($$)  Influencer Marketing      USD   \n",
       "1  Technology & Programming          Entry ($)   Website Development      GBP   \n",
       "2                    Design       Expert ($$$)        Graphic Design      GBP   \n",
       "3  Technology & Programming       Expert ($$$)   Website Development      GBP   \n",
       "4                    Design          Entry ($)        Graphic Design      GBP   \n",
       "\n",
       "   Budget Location Freelancer Preferred From         Type  \\\n",
       "0    50.0   remote                       ALL  fixed_price   \n",
       "1    20.0   remote                       ALL       hourly   \n",
       "2    80.0   remote                       ALL  fixed_price   \n",
       "3   275.0   remote                       ALL  fixed_price   \n",
       "4    50.0   remote                       ALL  fixed_price   \n",
       "\n",
       "           Date Posted                                        Description  \\\n",
       "0  2023-04-06 18:12:37  What will you do: online marketing for a USA a...   \n",
       "1  2023-04-06 17:59:48  Looking for a web developer with experience in...   \n",
       "2  2023-04-06 17:48:31  I need 5 high quality vector images designed f...   \n",
       "3  2023-04-06 17:50:08  Requires a person with experience creating a w...   \n",
       "4  2023-04-06 17:48:31  Hi,\\n\\nI have 4x images (Some are attached, I ...   \n",
       "\n",
       "  Duration Client Registration Date Client City  Client Country  \\\n",
       "0      NaN               2014-04-11       Amman          Jordan   \n",
       "1      NaN               2021-07-06  Kensington  United Kingdom   \n",
       "2      NaN               2018-05-11  Manchester  United Kingdom   \n",
       "3      NaN               2023-04-06      London  United Kingdom   \n",
       "4      NaN               2014-02-13     Cardiff  United Kingdom   \n",
       "\n",
       "  Client Currency                             Client Job Title  \n",
       "0             USD                                          NaN  \n",
       "1             GBP                                Web developer  \n",
       "2             GBP  Wix Website Designer | Official Wix Partner  \n",
       "3             GBP                                          NaN  \n",
       "4             GBP                   Freelance Graphic Designer  "
      ]
     },
     "execution_count": 1,
     "metadata": {},
     "output_type": "execute_result"
    }
   ],
   "source": [
    "import pandas as pd\n",
    "df=pd.read_csv('demo_data.csv')\n",
    "df.head()"
   ]
  },
  {
   "cell_type": "code",
   "execution_count": 2,
   "id": "9dfb1e56",
   "metadata": {},
   "outputs": [],
   "source": [
    "m=df.copy()"
   ]
  },
  {
   "cell_type": "code",
   "execution_count": 3,
   "id": "277aa150",
   "metadata": {},
   "outputs": [
    {
     "data": {
      "text/plain": [
       "(9652, 17)"
      ]
     },
     "execution_count": 3,
     "metadata": {},
     "output_type": "execute_result"
    }
   ],
   "source": [
    "df.shape # Gives The Dimensions Of The Dataset"
   ]
  },
  {
   "cell_type": "code",
   "execution_count": 4,
   "id": "5bfcb9e6",
   "metadata": {},
   "outputs": [
    {
     "data": {
      "text/plain": [
       "Index(['Title', 'Category Name', 'Experience', 'Sub Category Name', 'Currency',\n",
       "       'Budget', 'Location', 'Freelancer Preferred From', 'Type',\n",
       "       'Date Posted', 'Description', 'Duration', 'Client Registration Date',\n",
       "       'Client City', 'Client Country', 'Client Currency', 'Client Job Title'],\n",
       "      dtype='object')"
      ]
     },
     "execution_count": 4,
     "metadata": {},
     "output_type": "execute_result"
    }
   ],
   "source": [
    "df.columns # Shows The Columns Present in Dataset"
   ]
  },
  {
   "cell_type": "code",
   "execution_count": 5,
   "id": "da24dca5",
   "metadata": {},
   "outputs": [
    {
     "data": {
      "text/html": [
       "<div>\n",
       "<style scoped>\n",
       "    .dataframe tbody tr th:only-of-type {\n",
       "        vertical-align: middle;\n",
       "    }\n",
       "\n",
       "    .dataframe tbody tr th {\n",
       "        vertical-align: top;\n",
       "    }\n",
       "\n",
       "    .dataframe thead th {\n",
       "        text-align: right;\n",
       "    }\n",
       "</style>\n",
       "<table border=\"1\" class=\"dataframe\">\n",
       "  <thead>\n",
       "    <tr style=\"text-align: right;\">\n",
       "      <th></th>\n",
       "      <th>Budget</th>\n",
       "    </tr>\n",
       "  </thead>\n",
       "  <tbody>\n",
       "    <tr>\n",
       "      <th>count</th>\n",
       "      <td>9652.000000</td>\n",
       "    </tr>\n",
       "    <tr>\n",
       "      <th>mean</th>\n",
       "      <td>221.352880</td>\n",
       "    </tr>\n",
       "    <tr>\n",
       "      <th>std</th>\n",
       "      <td>1777.021178</td>\n",
       "    </tr>\n",
       "    <tr>\n",
       "      <th>min</th>\n",
       "      <td>0.000000</td>\n",
       "    </tr>\n",
       "    <tr>\n",
       "      <th>25%</th>\n",
       "      <td>30.000000</td>\n",
       "    </tr>\n",
       "    <tr>\n",
       "      <th>50%</th>\n",
       "      <td>80.000000</td>\n",
       "    </tr>\n",
       "    <tr>\n",
       "      <th>75%</th>\n",
       "      <td>150.000000</td>\n",
       "    </tr>\n",
       "    <tr>\n",
       "      <th>max</th>\n",
       "      <td>99999.000000</td>\n",
       "    </tr>\n",
       "  </tbody>\n",
       "</table>\n",
       "</div>"
      ],
      "text/plain": [
       "             Budget\n",
       "count   9652.000000\n",
       "mean     221.352880\n",
       "std     1777.021178\n",
       "min        0.000000\n",
       "25%       30.000000\n",
       "50%       80.000000\n",
       "75%      150.000000\n",
       "max    99999.000000"
      ]
     },
     "execution_count": 5,
     "metadata": {},
     "output_type": "execute_result"
    }
   ],
   "source": [
    "df.describe() # We can conclude no outliers are present"
   ]
  },
  {
   "cell_type": "code",
   "execution_count": 6,
   "id": "4fbabd59",
   "metadata": {},
   "outputs": [
    {
     "data": {
      "text/plain": [
       "Title                           0\n",
       "Category Name                   0\n",
       "Experience                      0\n",
       "Sub Category Name               0\n",
       "Currency                        0\n",
       "Budget                          0\n",
       "Location                        0\n",
       "Freelancer Preferred From       0\n",
       "Type                            0\n",
       "Date Posted                     0\n",
       "Description                     0\n",
       "Duration                     8379\n",
       "Client Registration Date        0\n",
       "Client City                     0\n",
       "Client Country                  0\n",
       "Client Currency                 0\n",
       "Client Job Title             5985\n",
       "dtype: int64"
      ]
     },
     "execution_count": 6,
     "metadata": {},
     "output_type": "execute_result"
    }
   ],
   "source": [
    "df.isnull().sum() # Shows Total Number Of Null Entries"
   ]
  },
  {
   "cell_type": "code",
   "execution_count": 7,
   "id": "06758498",
   "metadata": {},
   "outputs": [],
   "source": [
    "from sklearn.preprocessing import LabelEncoder\n",
    "label=LabelEncoder()\n",
    "\n",
    "df['Duration']=label.fit_transform(df['Duration'])\n",
    "mean_duration=df['Duration'].mean()\n",
    "df['Duration'].fillna(value=mean_duration,inplace=True)"
   ]
  },
  {
   "cell_type": "code",
   "execution_count": 8,
   "id": "fb4a17dc",
   "metadata": {},
   "outputs": [],
   "source": [
    "df['Client Job Title']=label.fit_transform(df['Client Job Title'])\n",
    "Cjt=df['Client Job Title'].mean()\n",
    "df['Client Job Title'].fillna(value=Cjt,inplace=True)"
   ]
  },
  {
   "cell_type": "code",
   "execution_count": 9,
   "id": "3067d041",
   "metadata": {},
   "outputs": [
    {
     "data": {
      "text/plain": [
       "Title                        0\n",
       "Category Name                0\n",
       "Experience                   0\n",
       "Sub Category Name            0\n",
       "Currency                     0\n",
       "Budget                       0\n",
       "Location                     0\n",
       "Freelancer Preferred From    0\n",
       "Type                         0\n",
       "Date Posted                  0\n",
       "Description                  0\n",
       "Duration                     0\n",
       "Client Registration Date     0\n",
       "Client City                  0\n",
       "Client Country               0\n",
       "Client Currency              0\n",
       "Client Job Title             0\n",
       "dtype: int64"
      ]
     },
     "execution_count": 9,
     "metadata": {},
     "output_type": "execute_result"
    }
   ],
   "source": [
    "df.isnull().sum()"
   ]
  },
  {
   "cell_type": "code",
   "execution_count": 10,
   "id": "87d9f1b2",
   "metadata": {},
   "outputs": [],
   "source": [
    "df['Date Posted']=df['Date Posted'].astype('datetime64') \n",
    "df['Budget']=df['Budget'].astype('int64') "
   ]
  },
  {
   "cell_type": "code",
   "execution_count": 11,
   "id": "1fc863d3",
   "metadata": {},
   "outputs": [
    {
     "data": {
      "text/plain": [
       "array(['USD', 'GBP', 'EUR'], dtype=object)"
      ]
     },
     "execution_count": 11,
     "metadata": {},
     "output_type": "execute_result"
    }
   ],
   "source": [
    "df['Currency'].unique()"
   ]
  },
  {
   "cell_type": "code",
   "execution_count": 12,
   "id": "a422f32d",
   "metadata": {},
   "outputs": [],
   "source": [
    "df['Currency']=label.fit_transform(df['Currency'])"
   ]
  },
  {
   "cell_type": "code",
   "execution_count": 13,
   "id": "f522ae3e",
   "metadata": {},
   "outputs": [
    {
     "data": {
      "text/plain": [
       "0    2\n",
       "1    1\n",
       "2    1\n",
       "3    1\n",
       "4    1\n",
       "Name: Currency, dtype: int32"
      ]
     },
     "execution_count": 13,
     "metadata": {},
     "output_type": "execute_result"
    }
   ],
   "source": [
    "df['Currency'].head()"
   ]
  },
  {
   "cell_type": "code",
   "execution_count": 14,
   "id": "b5b37bac",
   "metadata": {},
   "outputs": [
    {
     "data": {
      "text/plain": [
       "array(['Intermediate ($$)', 'Entry ($)', 'Expert ($$$)'], dtype=object)"
      ]
     },
     "execution_count": 14,
     "metadata": {},
     "output_type": "execute_result"
    }
   ],
   "source": [
    "df['Experience'].unique()"
   ]
  },
  {
   "cell_type": "code",
   "execution_count": 15,
   "id": "d35520ce",
   "metadata": {},
   "outputs": [
    {
     "data": {
      "text/plain": [
       "0    2\n",
       "1    0\n",
       "2    1\n",
       "3    1\n",
       "4    0\n",
       "Name: Experience, dtype: int32"
      ]
     },
     "execution_count": 15,
     "metadata": {},
     "output_type": "execute_result"
    }
   ],
   "source": [
    "df['Experience']=label.fit_transform(df['Experience'])\n",
    "df['Experience'].head()"
   ]
  },
  {
   "cell_type": "code",
   "execution_count": null,
   "id": "d0b15888",
   "metadata": {},
   "outputs": [],
   "source": []
  },
  {
   "cell_type": "code",
   "execution_count": 16,
   "id": "f737b103",
   "metadata": {},
   "outputs": [
    {
     "data": {
      "text/plain": [
       "array(['remote', 'onsite', 'remote_country'], dtype=object)"
      ]
     },
     "execution_count": 16,
     "metadata": {},
     "output_type": "execute_result"
    }
   ],
   "source": [
    "df['Location'].unique()"
   ]
  },
  {
   "cell_type": "code",
   "execution_count": 17,
   "id": "1fe95e39",
   "metadata": {},
   "outputs": [
    {
     "data": {
      "text/html": [
       "<div>\n",
       "<style scoped>\n",
       "    .dataframe tbody tr th:only-of-type {\n",
       "        vertical-align: middle;\n",
       "    }\n",
       "\n",
       "    .dataframe tbody tr th {\n",
       "        vertical-align: top;\n",
       "    }\n",
       "\n",
       "    .dataframe thead th {\n",
       "        text-align: right;\n",
       "    }\n",
       "</style>\n",
       "<table border=\"1\" class=\"dataframe\">\n",
       "  <thead>\n",
       "    <tr style=\"text-align: right;\">\n",
       "      <th></th>\n",
       "      <th>Title</th>\n",
       "      <th>Category Name</th>\n",
       "      <th>Experience</th>\n",
       "      <th>Sub Category Name</th>\n",
       "      <th>Currency</th>\n",
       "      <th>Budget</th>\n",
       "      <th>Location</th>\n",
       "      <th>Freelancer Preferred From</th>\n",
       "      <th>Type</th>\n",
       "      <th>Date Posted</th>\n",
       "      <th>Description</th>\n",
       "      <th>Duration</th>\n",
       "      <th>Client Registration Date</th>\n",
       "      <th>Client City</th>\n",
       "      <th>Client Country</th>\n",
       "      <th>Client Currency</th>\n",
       "      <th>Client Job Title</th>\n",
       "    </tr>\n",
       "  </thead>\n",
       "  <tbody>\n",
       "    <tr>\n",
       "      <th>0</th>\n",
       "      <td>Amazon Product Online Marketing v2</td>\n",
       "      <td>Digital Marketing</td>\n",
       "      <td>2</td>\n",
       "      <td>Influencer Marketing</td>\n",
       "      <td>2</td>\n",
       "      <td>50</td>\n",
       "      <td>1</td>\n",
       "      <td>ALL</td>\n",
       "      <td>fixed_price</td>\n",
       "      <td>2023-04-06 18:12:37</td>\n",
       "      <td>What will you do: online marketing for a USA a...</td>\n",
       "      <td>25</td>\n",
       "      <td>2014-04-11</td>\n",
       "      <td>Amman</td>\n",
       "      <td>Jordan</td>\n",
       "      <td>USD</td>\n",
       "      <td>1630</td>\n",
       "    </tr>\n",
       "    <tr>\n",
       "      <th>1</th>\n",
       "      <td>bbPress website fixes and amends - 1 day initi...</td>\n",
       "      <td>Technology &amp; Programming</td>\n",
       "      <td>0</td>\n",
       "      <td>Website Development</td>\n",
       "      <td>1</td>\n",
       "      <td>20</td>\n",
       "      <td>1</td>\n",
       "      <td>ALL</td>\n",
       "      <td>hourly</td>\n",
       "      <td>2023-04-06 17:59:48</td>\n",
       "      <td>Looking for a web developer with experience in...</td>\n",
       "      <td>25</td>\n",
       "      <td>2021-07-06</td>\n",
       "      <td>Kensington</td>\n",
       "      <td>United Kingdom</td>\n",
       "      <td>GBP</td>\n",
       "      <td>1456</td>\n",
       "    </tr>\n",
       "    <tr>\n",
       "      <th>2</th>\n",
       "      <td>High Quality Vector Images</td>\n",
       "      <td>Design</td>\n",
       "      <td>1</td>\n",
       "      <td>Graphic Design</td>\n",
       "      <td>1</td>\n",
       "      <td>80</td>\n",
       "      <td>1</td>\n",
       "      <td>ALL</td>\n",
       "      <td>fixed_price</td>\n",
       "      <td>2023-04-06 17:48:31</td>\n",
       "      <td>I need 5 high quality vector images designed f...</td>\n",
       "      <td>25</td>\n",
       "      <td>2018-05-11</td>\n",
       "      <td>Manchester</td>\n",
       "      <td>United Kingdom</td>\n",
       "      <td>GBP</td>\n",
       "      <td>1490</td>\n",
       "    </tr>\n",
       "    <tr>\n",
       "      <th>3</th>\n",
       "      <td>I need a web site</td>\n",
       "      <td>Technology &amp; Programming</td>\n",
       "      <td>1</td>\n",
       "      <td>Website Development</td>\n",
       "      <td>1</td>\n",
       "      <td>275</td>\n",
       "      <td>1</td>\n",
       "      <td>ALL</td>\n",
       "      <td>fixed_price</td>\n",
       "      <td>2023-04-06 17:50:08</td>\n",
       "      <td>Requires a person with experience creating a w...</td>\n",
       "      <td>25</td>\n",
       "      <td>2023-04-06</td>\n",
       "      <td>London</td>\n",
       "      <td>United Kingdom</td>\n",
       "      <td>GBP</td>\n",
       "      <td>1630</td>\n",
       "    </tr>\n",
       "    <tr>\n",
       "      <th>4</th>\n",
       "      <td>I need someone to turn 4x phone images into Ph...</td>\n",
       "      <td>Design</td>\n",
       "      <td>0</td>\n",
       "      <td>Graphic Design</td>\n",
       "      <td>1</td>\n",
       "      <td>50</td>\n",
       "      <td>1</td>\n",
       "      <td>ALL</td>\n",
       "      <td>fixed_price</td>\n",
       "      <td>2023-04-06 17:48:31</td>\n",
       "      <td>Hi,\\n\\nI have 4x images (Some are attached, I ...</td>\n",
       "      <td>25</td>\n",
       "      <td>2014-02-13</td>\n",
       "      <td>Cardiff</td>\n",
       "      <td>United Kingdom</td>\n",
       "      <td>GBP</td>\n",
       "      <td>593</td>\n",
       "    </tr>\n",
       "  </tbody>\n",
       "</table>\n",
       "</div>"
      ],
      "text/plain": [
       "                                               Title  \\\n",
       "0                 Amazon Product Online Marketing v2   \n",
       "1  bbPress website fixes and amends - 1 day initi...   \n",
       "2                         High Quality Vector Images   \n",
       "3                                  I need a web site   \n",
       "4  I need someone to turn 4x phone images into Ph...   \n",
       "\n",
       "              Category Name  Experience     Sub Category Name  Currency  \\\n",
       "0         Digital Marketing           2  Influencer Marketing         2   \n",
       "1  Technology & Programming           0   Website Development         1   \n",
       "2                    Design           1        Graphic Design         1   \n",
       "3  Technology & Programming           1   Website Development         1   \n",
       "4                    Design           0        Graphic Design         1   \n",
       "\n",
       "   Budget  Location Freelancer Preferred From         Type  \\\n",
       "0      50         1                       ALL  fixed_price   \n",
       "1      20         1                       ALL       hourly   \n",
       "2      80         1                       ALL  fixed_price   \n",
       "3     275         1                       ALL  fixed_price   \n",
       "4      50         1                       ALL  fixed_price   \n",
       "\n",
       "          Date Posted                                        Description  \\\n",
       "0 2023-04-06 18:12:37  What will you do: online marketing for a USA a...   \n",
       "1 2023-04-06 17:59:48  Looking for a web developer with experience in...   \n",
       "2 2023-04-06 17:48:31  I need 5 high quality vector images designed f...   \n",
       "3 2023-04-06 17:50:08  Requires a person with experience creating a w...   \n",
       "4 2023-04-06 17:48:31  Hi,\\n\\nI have 4x images (Some are attached, I ...   \n",
       "\n",
       "   Duration Client Registration Date Client City  Client Country  \\\n",
       "0        25               2014-04-11       Amman          Jordan   \n",
       "1        25               2021-07-06  Kensington  United Kingdom   \n",
       "2        25               2018-05-11  Manchester  United Kingdom   \n",
       "3        25               2023-04-06      London  United Kingdom   \n",
       "4        25               2014-02-13     Cardiff  United Kingdom   \n",
       "\n",
       "  Client Currency  Client Job Title  \n",
       "0             USD              1630  \n",
       "1             GBP              1456  \n",
       "2             GBP              1490  \n",
       "3             GBP              1630  \n",
       "4             GBP               593  "
      ]
     },
     "execution_count": 17,
     "metadata": {},
     "output_type": "execute_result"
    }
   ],
   "source": [
    "df['Location']=label.fit_transform(df['Location'])\n",
    "df.head()"
   ]
  },
  {
   "cell_type": "code",
   "execution_count": 18,
   "id": "50b5fe6f",
   "metadata": {},
   "outputs": [
    {
     "data": {
      "text/plain": [
       "array(['Jordan', 'United Kingdom', 'United States', 'Ukraine', 'Italy',\n",
       "       'United Arab Emirates', 'Kenya', 'New Zealand', 'Luxembourg',\n",
       "       'Croatia', 'France', 'India', 'French Polynesia', 'Malaysia',\n",
       "       'Bahrain', 'Canada', 'Hong Kong', 'Netherlands', 'Pakistan',\n",
       "       'Cyprus', 'El Salvador', 'Ireland', 'Slovenia', 'Australia',\n",
       "       'Turkey', 'Spain', 'Bangladesh', 'Greece', 'Estonia', 'Colombia',\n",
       "       'Nepal', 'Tanzania, United Republic of', 'Sweden', 'Indonesia',\n",
       "       'Saudi Arabia', 'Switzerland', 'Russian Federation', 'Kuwait',\n",
       "       'Uganda', 'Nigeria', 'Hungary', 'Lebanon', 'Viet Nam', 'Israel',\n",
       "       'Romania', 'Philippines', 'Dominican Republic', 'Norway',\n",
       "       'Bahamas', 'Germany', 'Portugal', 'Singapore', 'Argentina',\n",
       "       'Georgia', 'Morocco', 'Bosnia and Herzegovina', 'Austria',\n",
       "       'Belgium', 'Jamaica', 'Poland', 'Ethiopia', 'Trinidad and Tobago',\n",
       "       'Latvia', 'Guernsey', 'Denmark', 'Finland', 'Japan', 'Ghana',\n",
       "       'Curaçao', 'Bermuda', 'South Africa', 'Bulgaria', 'Malta',\n",
       "       'Lithuania', 'Sri Lanka', 'Moldova, Republic of',\n",
       "       'Taiwan, Province of China', 'Honduras', 'Panama', 'Serbia',\n",
       "       'Mexico', 'Saint Lucia', 'Egypt', 'Belarus', 'Uruguay',\n",
       "       'Korea, Republic of', 'Oman', 'Albania', 'Thailand', 'China',\n",
       "       'Fiji', 'Czech Republic', 'Algeria', 'Qatar', 'Kosovo', 'Angola',\n",
       "       'Bolivia', 'Reunion', 'Botswana', 'Iceland', 'Peru', 'Brazil',\n",
       "       'Chile', 'Guadeloupe', 'Palestinian Territory, Occupied',\n",
       "       'South Korea', 'Cayman Islands', \"Cote D'Ivoire\", 'Azerbaijan',\n",
       "       'Mauritius', 'Barbados', 'Jersey', 'Costa Rica', 'Cambodia',\n",
       "       'Uzbekistan', 'Namibia', 'Gibraltar', 'Iraq', 'Benin', 'Somalia',\n",
       "       'Comoros', 'Ecuador', 'Tunisia', 'Slovakia', 'Kazakhstan',\n",
       "       'Zimbabwe', 'Monaco', 'Maldives', 'Afghanistan', 'Saint Martin',\n",
       "       'Antigua and Barbuda', 'Venezuela', 'North Macedonia',\n",
       "       'Isle of Man'], dtype=object)"
      ]
     },
     "execution_count": 18,
     "metadata": {},
     "output_type": "execute_result"
    }
   ],
   "source": [
    "df['Client Country'].unique()"
   ]
  },
  {
   "cell_type": "code",
   "execution_count": 19,
   "id": "a428d4be",
   "metadata": {},
   "outputs": [],
   "source": [
    "df['Client Country']=label.fit_transform(df['Client Country'])"
   ]
  },
  {
   "cell_type": "code",
   "execution_count": 20,
   "id": "3c5a5c21",
   "metadata": {},
   "outputs": [],
   "source": [
    "df['Type'].unique()\n",
    "df['Type']=label.fit_transform(df['Type'])"
   ]
  },
  {
   "cell_type": "code",
   "execution_count": 21,
   "id": "813fa696",
   "metadata": {},
   "outputs": [
    {
     "data": {
      "text/html": [
       "<div>\n",
       "<style scoped>\n",
       "    .dataframe tbody tr th:only-of-type {\n",
       "        vertical-align: middle;\n",
       "    }\n",
       "\n",
       "    .dataframe tbody tr th {\n",
       "        vertical-align: top;\n",
       "    }\n",
       "\n",
       "    .dataframe thead th {\n",
       "        text-align: right;\n",
       "    }\n",
       "</style>\n",
       "<table border=\"1\" class=\"dataframe\">\n",
       "  <thead>\n",
       "    <tr style=\"text-align: right;\">\n",
       "      <th></th>\n",
       "      <th>Experience</th>\n",
       "      <th>Currency</th>\n",
       "      <th>Budget</th>\n",
       "      <th>Location</th>\n",
       "      <th>Type</th>\n",
       "      <th>Duration</th>\n",
       "      <th>Client Country</th>\n",
       "      <th>Client Job Title</th>\n",
       "    </tr>\n",
       "  </thead>\n",
       "  <tbody>\n",
       "    <tr>\n",
       "      <th>count</th>\n",
       "      <td>9652.000000</td>\n",
       "      <td>9652.000000</td>\n",
       "      <td>9652.000000</td>\n",
       "      <td>9652.000000</td>\n",
       "      <td>9652.000000</td>\n",
       "      <td>9652.000000</td>\n",
       "      <td>9652.000000</td>\n",
       "      <td>9652.000000</td>\n",
       "    </tr>\n",
       "    <tr>\n",
       "      <th>mean</th>\n",
       "      <td>0.687319</td>\n",
       "      <td>1.176544</td>\n",
       "      <td>221.352880</td>\n",
       "      <td>1.053357</td>\n",
       "      <td>0.147741</td>\n",
       "      <td>23.158102</td>\n",
       "      <td>111.641111</td>\n",
       "      <td>1299.528181</td>\n",
       "    </tr>\n",
       "    <tr>\n",
       "      <th>std</th>\n",
       "      <td>0.678910</td>\n",
       "      <td>0.540665</td>\n",
       "      <td>1777.021178</td>\n",
       "      <td>0.250069</td>\n",
       "      <td>0.354862</td>\n",
       "      <td>5.736402</td>\n",
       "      <td>31.821510</td>\n",
       "      <td>509.426387</td>\n",
       "    </tr>\n",
       "    <tr>\n",
       "      <th>min</th>\n",
       "      <td>0.000000</td>\n",
       "      <td>0.000000</td>\n",
       "      <td>0.000000</td>\n",
       "      <td>0.000000</td>\n",
       "      <td>0.000000</td>\n",
       "      <td>0.000000</td>\n",
       "      <td>0.000000</td>\n",
       "      <td>0.000000</td>\n",
       "    </tr>\n",
       "    <tr>\n",
       "      <th>25%</th>\n",
       "      <td>0.000000</td>\n",
       "      <td>1.000000</td>\n",
       "      <td>30.000000</td>\n",
       "      <td>1.000000</td>\n",
       "      <td>0.000000</td>\n",
       "      <td>25.000000</td>\n",
       "      <td>126.000000</td>\n",
       "      <td>963.000000</td>\n",
       "    </tr>\n",
       "    <tr>\n",
       "      <th>50%</th>\n",
       "      <td>1.000000</td>\n",
       "      <td>1.000000</td>\n",
       "      <td>80.000000</td>\n",
       "      <td>1.000000</td>\n",
       "      <td>0.000000</td>\n",
       "      <td>25.000000</td>\n",
       "      <td>127.000000</td>\n",
       "      <td>1630.000000</td>\n",
       "    </tr>\n",
       "    <tr>\n",
       "      <th>75%</th>\n",
       "      <td>1.000000</td>\n",
       "      <td>1.250000</td>\n",
       "      <td>150.000000</td>\n",
       "      <td>1.000000</td>\n",
       "      <td>0.000000</td>\n",
       "      <td>25.000000</td>\n",
       "      <td>127.000000</td>\n",
       "      <td>1630.000000</td>\n",
       "    </tr>\n",
       "    <tr>\n",
       "      <th>max</th>\n",
       "      <td>2.000000</td>\n",
       "      <td>2.000000</td>\n",
       "      <td>99999.000000</td>\n",
       "      <td>2.000000</td>\n",
       "      <td>1.000000</td>\n",
       "      <td>25.000000</td>\n",
       "      <td>133.000000</td>\n",
       "      <td>1630.000000</td>\n",
       "    </tr>\n",
       "  </tbody>\n",
       "</table>\n",
       "</div>"
      ],
      "text/plain": [
       "        Experience     Currency        Budget     Location         Type  \\\n",
       "count  9652.000000  9652.000000   9652.000000  9652.000000  9652.000000   \n",
       "mean      0.687319     1.176544    221.352880     1.053357     0.147741   \n",
       "std       0.678910     0.540665   1777.021178     0.250069     0.354862   \n",
       "min       0.000000     0.000000      0.000000     0.000000     0.000000   \n",
       "25%       0.000000     1.000000     30.000000     1.000000     0.000000   \n",
       "50%       1.000000     1.000000     80.000000     1.000000     0.000000   \n",
       "75%       1.000000     1.250000    150.000000     1.000000     0.000000   \n",
       "max       2.000000     2.000000  99999.000000     2.000000     1.000000   \n",
       "\n",
       "          Duration  Client Country  Client Job Title  \n",
       "count  9652.000000     9652.000000       9652.000000  \n",
       "mean     23.158102      111.641111       1299.528181  \n",
       "std       5.736402       31.821510        509.426387  \n",
       "min       0.000000        0.000000          0.000000  \n",
       "25%      25.000000      126.000000        963.000000  \n",
       "50%      25.000000      127.000000       1630.000000  \n",
       "75%      25.000000      127.000000       1630.000000  \n",
       "max      25.000000      133.000000       1630.000000  "
      ]
     },
     "execution_count": 21,
     "metadata": {},
     "output_type": "execute_result"
    }
   ],
   "source": [
    "df.describe()"
   ]
  },
  {
   "cell_type": "code",
   "execution_count": 22,
   "id": "2c969b12",
   "metadata": {},
   "outputs": [
    {
     "data": {
      "text/plain": [
       "array([[  2,  67],\n",
       "       [  0, 127],\n",
       "       [  1, 127],\n",
       "       [  1, 127],\n",
       "       [  0, 127]])"
      ]
     },
     "execution_count": 22,
     "metadata": {},
     "output_type": "execute_result"
    }
   ],
   "source": [
    "x=df.iloc[:,[2,14]].values\n",
    "x[:5]"
   ]
  },
  {
   "cell_type": "code",
   "execution_count": 23,
   "id": "3df43093",
   "metadata": {},
   "outputs": [
    {
     "data": {
      "text/plain": [
       "{1: 9777133.135101594,\n",
       " 2: 1196629.2552494358,\n",
       " 3: 568000.5235865441,\n",
       " 4: 213010.6412990409,\n",
       " 5: 145375.2222334293,\n",
       " 6: 86880.19464553194,\n",
       " 7: 59937.515564548106,\n",
       " 8: 43584.199360949344,\n",
       " 9: 34226.281901631155,\n",
       " 10: 27572.32210094979}"
      ]
     },
     "execution_count": 23,
     "metadata": {},
     "output_type": "execute_result"
    }
   ],
   "source": [
    "from sklearn.cluster import KMeans\n",
    "wcss={}\n",
    "\n",
    "for i in range(1,11):\n",
    "    model=KMeans(n_clusters=i)\n",
    "    model.fit(x)\n",
    "    wcss[i]=model.inertia_\n",
    "    \n",
    "wcss"
   ]
  },
  {
   "cell_type": "code",
   "execution_count": 24,
   "id": "7757f32b",
   "metadata": {},
   "outputs": [
    {
     "data": {
      "image/png": "[encoded data removed]",
      "text/plain": [
       "<Figure size 640x480 with 1 Axes>"
      ]
     },
     "metadata": {},
     "output_type": "display_data"
    }
   ],
   "source": [
    "import matplotlib.pyplot as plt\n",
    "plt.plot(wcss.keys(),wcss.values())\n",
    "plt.title(\"Elbow Method\")\n",
    "plt.xlabel('No. Of Clusters')\n",
    "plt.ylabel('WCSS Values')\n",
    "plt.show()"
   ]
  },
  {
   "cell_type": "code",
   "execution_count": 25,
   "id": "00d74cd2",
   "metadata": {},
   "outputs": [
    {
     "data": {
      "text/plain": [
       "array([3, 0, 0, 0, 0])"
      ]
     },
     "execution_count": 25,
     "metadata": {},
     "output_type": "execute_result"
    }
   ],
   "source": [
    "model=KMeans(n_clusters=4)\n",
    "pred=model.fit_predict(x)\n",
    "pred[:5]"
   ]
  },
  {
   "cell_type": "code",
   "execution_count": 26,
   "id": "9615e7f1",
   "metadata": {
    "scrolled": true
   },
   "outputs": [
    {
     "data": {
      "image/png": "[encoded data removed]",
      "text/plain": [
       "<Figure size 640x480 with 1 Axes>"
      ]
     },
     "metadata": {},
     "output_type": "display_data"
    }
   ],
   "source": [
    "plt.scatter(x[pred==0,0],x[pred==0,1],s=100,c='blue')\n",
    "plt.scatter(x[pred==1,0],x[pred==1,1],s=100,c='magenta')\n",
    "plt.scatter(x[pred==2,0],x[pred==2,1],s=100,c='cyan')\n",
    "plt.scatter(x[pred==3,0],x[pred==3,1],s=100,c='green')\n",
    "plt.scatter(x[pred==4,0],x[pred==4,1],s=100,c='red')\n",
    "plt.show()"
   ]
  },
  {
   "cell_type": "code",
   "execution_count": 53,
   "id": "8cd318e6",
   "metadata": {},
   "outputs": [
    {
     "ename": "KeyError",
     "evalue": "('Currency', 'Budget')",
     "output_type": "error",
     "traceback": [
      "\u001b[1;31m---------------------------------------------------------------------------\u001b[0m",
      "\u001b[1;31mKeyError\u001b[0m                                  Traceback (most recent call last)",
      "File \u001b[1;32m~\\AppData\\Local\\Programs\\Python\\Python39\\lib\\site-packages\\pandas\\core\\indexes\\base.py:3800\u001b[0m, in \u001b[0;36mIndex.get_loc\u001b[1;34m(self, key, method, tolerance)\u001b[0m\n\u001b[0;32m   3799\u001b[0m \u001b[38;5;28;01mtry\u001b[39;00m:\n\u001b[1;32m-> 3800\u001b[0m     \u001b[38;5;28;01mreturn\u001b[39;00m \u001b[38;5;28;43mself\u001b[39;49m\u001b[38;5;241;43m.\u001b[39;49m\u001b[43m_engine\u001b[49m\u001b[38;5;241;43m.\u001b[39;49m\u001b[43mget_loc\u001b[49m\u001b[43m(\u001b[49m\u001b[43mcasted_key\u001b[49m\u001b[43m)\u001b[49m\n\u001b[0;32m   3801\u001b[0m \u001b[38;5;28;01mexcept\u001b[39;00m \u001b[38;5;167;01mKeyError\u001b[39;00m \u001b[38;5;28;01mas\u001b[39;00m err:\n",
      "File \u001b[1;32m~\\AppData\\Local\\Programs\\Python\\Python39\\lib\\site-packages\\pandas\\_libs\\index.pyx:138\u001b[0m, in \u001b[0;36mpandas._libs.index.IndexEngine.get_loc\u001b[1;34m()\u001b[0m\n",
      "File \u001b[1;32m~\\AppData\\Local\\Programs\\Python\\Python39\\lib\\site-packages\\pandas\\_libs\\index.pyx:165\u001b[0m, in \u001b[0;36mpandas._libs.index.IndexEngine.get_loc\u001b[1;34m()\u001b[0m\n",
      "File \u001b[1;32mpandas\\_libs\\hashtable_class_helper.pxi:5745\u001b[0m, in \u001b[0;36mpandas._libs.hashtable.PyObjectHashTable.get_item\u001b[1;34m()\u001b[0m\n",
      "File \u001b[1;32mpandas\\_libs\\hashtable_class_helper.pxi:5753\u001b[0m, in \u001b[0;36mpandas._libs.hashtable.PyObjectHashTable.get_item\u001b[1;34m()\u001b[0m\n",
      "\u001b[1;31mKeyError\u001b[0m: ('Currency', 'Budget')",
      "\nThe above exception was the direct cause of the following exception:\n",
      "\u001b[1;31mKeyError\u001b[0m                                  Traceback (most recent call last)",
      "Cell \u001b[1;32mIn [53], line 1\u001b[0m\n\u001b[1;32m----> 1\u001b[0m x\u001b[38;5;241m=\u001b[39m\u001b[43mdf\u001b[49m\u001b[43m[\u001b[49m\u001b[38;5;124;43m'\u001b[39;49m\u001b[38;5;124;43mCurrency\u001b[39;49m\u001b[38;5;124;43m'\u001b[39;49m\u001b[43m,\u001b[49m\u001b[38;5;124;43m'\u001b[39;49m\u001b[38;5;124;43mBudget\u001b[39;49m\u001b[38;5;124;43m'\u001b[39;49m\u001b[43m]\u001b[49m\n\u001b[0;32m      2\u001b[0m y\u001b[38;5;241m=\u001b[39mdf[\u001b[38;5;124m'\u001b[39m\u001b[38;5;124mClient Country\u001b[39m\u001b[38;5;124m'\u001b[39m]\n",
      "File \u001b[1;32m~\\AppData\\Local\\Programs\\Python\\Python39\\lib\\site-packages\\pandas\\core\\frame.py:3805\u001b[0m, in \u001b[0;36mDataFrame.__getitem__\u001b[1;34m(self, key)\u001b[0m\n\u001b[0;32m   3803\u001b[0m \u001b[38;5;28;01mif\u001b[39;00m \u001b[38;5;28mself\u001b[39m\u001b[38;5;241m.\u001b[39mcolumns\u001b[38;5;241m.\u001b[39mnlevels \u001b[38;5;241m>\u001b[39m \u001b[38;5;241m1\u001b[39m:\n\u001b[0;32m   3804\u001b[0m     \u001b[38;5;28;01mreturn\u001b[39;00m \u001b[38;5;28mself\u001b[39m\u001b[38;5;241m.\u001b[39m_getitem_multilevel(key)\n\u001b[1;32m-> 3805\u001b[0m indexer \u001b[38;5;241m=\u001b[39m \u001b[38;5;28;43mself\u001b[39;49m\u001b[38;5;241;43m.\u001b[39;49m\u001b[43mcolumns\u001b[49m\u001b[38;5;241;43m.\u001b[39;49m\u001b[43mget_loc\u001b[49m\u001b[43m(\u001b[49m\u001b[43mkey\u001b[49m\u001b[43m)\u001b[49m\n\u001b[0;32m   3806\u001b[0m \u001b[38;5;28;01mif\u001b[39;00m is_integer(indexer):\n\u001b[0;32m   3807\u001b[0m     indexer \u001b[38;5;241m=\u001b[39m [indexer]\n",
      "File \u001b[1;32m~\\AppData\\Local\\Programs\\Python\\Python39\\lib\\site-packages\\pandas\\core\\indexes\\base.py:3802\u001b[0m, in \u001b[0;36mIndex.get_loc\u001b[1;34m(self, key, method, tolerance)\u001b[0m\n\u001b[0;32m   3800\u001b[0m     \u001b[38;5;28;01mreturn\u001b[39;00m \u001b[38;5;28mself\u001b[39m\u001b[38;5;241m.\u001b[39m_engine\u001b[38;5;241m.\u001b[39mget_loc(casted_key)\n\u001b[0;32m   3801\u001b[0m \u001b[38;5;28;01mexcept\u001b[39;00m \u001b[38;5;167;01mKeyError\u001b[39;00m \u001b[38;5;28;01mas\u001b[39;00m err:\n\u001b[1;32m-> 3802\u001b[0m     \u001b[38;5;28;01mraise\u001b[39;00m \u001b[38;5;167;01mKeyError\u001b[39;00m(key) \u001b[38;5;28;01mfrom\u001b[39;00m \u001b[38;5;21;01merr\u001b[39;00m\n\u001b[0;32m   3803\u001b[0m \u001b[38;5;28;01mexcept\u001b[39;00m \u001b[38;5;167;01mTypeError\u001b[39;00m:\n\u001b[0;32m   3804\u001b[0m     \u001b[38;5;66;03m# If we have a listlike key, _check_indexing_error will raise\u001b[39;00m\n\u001b[0;32m   3805\u001b[0m     \u001b[38;5;66;03m#  InvalidIndexError. Otherwise we fall through and re-raise\u001b[39;00m\n\u001b[0;32m   3806\u001b[0m     \u001b[38;5;66;03m#  the TypeError.\u001b[39;00m\n\u001b[0;32m   3807\u001b[0m     \u001b[38;5;28mself\u001b[39m\u001b[38;5;241m.\u001b[39m_check_indexing_error(key)\n",
      "\u001b[1;31mKeyError\u001b[0m: ('Currency', 'Budget')"
     ]
    }
   ],
   "source": [
    "x=df['Currency','Budget']\n",
    "y=df['Client Country']"
   ]
  },
  {
   "cell_type": "code",
   "execution_count": null,
   "id": "38ec9ac9",
   "metadata": {},
   "outputs": [],
   "source": [
    "from sklearn.model_selection import train_test_split\n",
    "xtrain,xtest,ytrain,ytest=train_test_split(x,y,train_size=0.7,random_state=3)"
   ]
  },
  {
   "cell_type": "code",
   "execution_count": null,
   "id": "adaf0899",
   "metadata": {},
   "outputs": [],
   "source": [
    "from sklearn.linear_model import LinearRegression\n",
    "model=LinearRegression()\n",
    "model.fit(xtest,ytest)\n",
    "model.coef_\n",
    "pred=model.predict(xtest)\n",
    "pred[:5]"
   ]
  },
  {
   "cell_type": "code",
   "execution_count": null,
   "id": "2018cf40",
   "metadata": {},
   "outputs": [],
   "source": [
    "from sklearn.metrics import r2_score\n",
    "r2_score(ytest,pred)"
   ]
  },
  {
   "cell_type": "code",
   "execution_count": null,
   "id": "b8c07cbe",
   "metadata": {},
   "outputs": [],
   "source": [
    "from sklearn.metrics import mean_squared_error\n",
    "mean_squared_error(ytest,pred)"
   ]
  },
  {
   "cell_type": "code",
   "execution_count": null,
   "id": "88889538",
   "metadata": {},
   "outputs": [],
   "source": [
    "import pickle\n",
    "pickle.dump(model,open('model.sav','wb'))"
   ]
  },
  {
   "cell_type": "code",
   "execution_count": null,
   "id": "8f11bc9e",
   "metadata": {},
   "outputs": [],
   "source": []
  },
  {
   "cell_type": "code",
   "execution_count": null,
   "id": "3fb667d5",
   "metadata": {},
   "outputs": [],
   "source": []
  },
  {
   "cell_type": "code",
   "execution_count": null,
   "id": "d76a6972",
   "metadata": {},
   "outputs": [],
   "source": []
  },
  {
   "cell_type": "code",
   "execution_count": 33,
   "id": "5205bd82",
   "metadata": {
    "collapsed": true
   },
   "outputs": [
    {
     "data": {
      "text/html": [
       "<div>\n",
       "<style scoped>\n",
       "    .dataframe tbody tr th:only-of-type {\n",
       "        vertical-align: middle;\n",
       "    }\n",
       "\n",
       "    .dataframe tbody tr th {\n",
       "        vertical-align: top;\n",
       "    }\n",
       "\n",
       "    .dataframe thead th {\n",
       "        text-align: right;\n",
       "    }\n",
       "</style>\n",
       "<table border=\"1\" class=\"dataframe\">\n",
       "  <thead>\n",
       "    <tr style=\"text-align: right;\">\n",
       "      <th></th>\n",
       "      <th>Title</th>\n",
       "      <th>Category Name</th>\n",
       "      <th>Experience</th>\n",
       "      <th>Sub Category Name</th>\n",
       "      <th>Currency</th>\n",
       "      <th>Budget</th>\n",
       "      <th>Location</th>\n",
       "      <th>Freelancer Preferred From</th>\n",
       "      <th>Type</th>\n",
       "      <th>Date Posted</th>\n",
       "      <th>Description</th>\n",
       "      <th>Duration</th>\n",
       "      <th>Client Registration Date</th>\n",
       "      <th>Client City</th>\n",
       "      <th>Client Country</th>\n",
       "      <th>Client Currency</th>\n",
       "      <th>Client Job Title</th>\n",
       "    </tr>\n",
       "  </thead>\n",
       "  <tbody>\n",
       "    <tr>\n",
       "      <th>0</th>\n",
       "      <td>Amazon Product Online Marketing v2</td>\n",
       "      <td>Digital Marketing</td>\n",
       "      <td>2</td>\n",
       "      <td>Influencer Marketing</td>\n",
       "      <td>2</td>\n",
       "      <td>50</td>\n",
       "      <td>1</td>\n",
       "      <td>ALL</td>\n",
       "      <td>0</td>\n",
       "      <td>2023-04-06 18:12:37</td>\n",
       "      <td>What will you do: online marketing for a USA a...</td>\n",
       "      <td>25</td>\n",
       "      <td>2014-04-11</td>\n",
       "      <td>Amman</td>\n",
       "      <td>67</td>\n",
       "      <td>USD</td>\n",
       "      <td>1630</td>\n",
       "    </tr>\n",
       "    <tr>\n",
       "      <th>1</th>\n",
       "      <td>bbPress website fixes and amends - 1 day initi...</td>\n",
       "      <td>Technology &amp; Programming</td>\n",
       "      <td>0</td>\n",
       "      <td>Website Development</td>\n",
       "      <td>1</td>\n",
       "      <td>20</td>\n",
       "      <td>1</td>\n",
       "      <td>ALL</td>\n",
       "      <td>1</td>\n",
       "      <td>2023-04-06 17:59:48</td>\n",
       "      <td>Looking for a web developer with experience in...</td>\n",
       "      <td>25</td>\n",
       "      <td>2021-07-06</td>\n",
       "      <td>Kensington</td>\n",
       "      <td>127</td>\n",
       "      <td>GBP</td>\n",
       "      <td>1456</td>\n",
       "    </tr>\n",
       "    <tr>\n",
       "      <th>2</th>\n",
       "      <td>High Quality Vector Images</td>\n",
       "      <td>Design</td>\n",
       "      <td>1</td>\n",
       "      <td>Graphic Design</td>\n",
       "      <td>1</td>\n",
       "      <td>80</td>\n",
       "      <td>1</td>\n",
       "      <td>ALL</td>\n",
       "      <td>0</td>\n",
       "      <td>2023-04-06 17:48:31</td>\n",
       "      <td>I need 5 high quality vector images designed f...</td>\n",
       "      <td>25</td>\n",
       "      <td>2018-05-11</td>\n",
       "      <td>Manchester</td>\n",
       "      <td>127</td>\n",
       "      <td>GBP</td>\n",
       "      <td>1490</td>\n",
       "    </tr>\n",
       "    <tr>\n",
       "      <th>3</th>\n",
       "      <td>I need a web site</td>\n",
       "      <td>Technology &amp; Programming</td>\n",
       "      <td>1</td>\n",
       "      <td>Website Development</td>\n",
       "      <td>1</td>\n",
       "      <td>275</td>\n",
       "      <td>1</td>\n",
       "      <td>ALL</td>\n",
       "      <td>0</td>\n",
       "      <td>2023-04-06 17:50:08</td>\n",
       "      <td>Requires a person with experience creating a w...</td>\n",
       "      <td>25</td>\n",
       "      <td>2023-04-06</td>\n",
       "      <td>London</td>\n",
       "      <td>127</td>\n",
       "      <td>GBP</td>\n",
       "      <td>1630</td>\n",
       "    </tr>\n",
       "    <tr>\n",
       "      <th>4</th>\n",
       "      <td>I need someone to turn 4x phone images into Ph...</td>\n",
       "      <td>Design</td>\n",
       "      <td>0</td>\n",
       "      <td>Graphic Design</td>\n",
       "      <td>1</td>\n",
       "      <td>50</td>\n",
       "      <td>1</td>\n",
       "      <td>ALL</td>\n",
       "      <td>0</td>\n",
       "      <td>2023-04-06 17:48:31</td>\n",
       "      <td>Hi,\\n\\nI have 4x images (Some are attached, I ...</td>\n",
       "      <td>25</td>\n",
       "      <td>2014-02-13</td>\n",
       "      <td>Cardiff</td>\n",
       "      <td>127</td>\n",
       "      <td>GBP</td>\n",
       "      <td>593</td>\n",
       "    </tr>\n",
       "  </tbody>\n",
       "</table>\n",
       "</div>"
      ],
      "text/plain": [
       "                                               Title  \\\n",
       "0                 Amazon Product Online Marketing v2   \n",
       "1  bbPress website fixes and amends - 1 day initi...   \n",
       "2                         High Quality Vector Images   \n",
       "3                                  I need a web site   \n",
       "4  I need someone to turn 4x phone images into Ph...   \n",
       "\n",
       "              Category Name  Experience     Sub Category Name  Currency  \\\n",
       "0         Digital Marketing           2  Influencer Marketing         2   \n",
       "1  Technology & Programming           0   Website Development         1   \n",
       "2                    Design           1        Graphic Design         1   \n",
       "3  Technology & Programming           1   Website Development         1   \n",
       "4                    Design           0        Graphic Design         1   \n",
       "\n",
       "   Budget  Location Freelancer Preferred From  Type         Date Posted  \\\n",
       "0      50         1                       ALL     0 2023-04-06 18:12:37   \n",
       "1      20         1                       ALL     1 2023-04-06 17:59:48   \n",
       "2      80         1                       ALL     0 2023-04-06 17:48:31   \n",
       "3     275         1                       ALL     0 2023-04-06 17:50:08   \n",
       "4      50         1                       ALL     0 2023-04-06 17:48:31   \n",
       "\n",
       "                                         Description  Duration  \\\n",
       "0  What will you do: online marketing for a USA a...        25   \n",
       "1  Looking for a web developer with experience in...        25   \n",
       "2  I need 5 high quality vector images designed f...        25   \n",
       "3  Requires a person with experience creating a w...        25   \n",
       "4  Hi,\\n\\nI have 4x images (Some are attached, I ...        25   \n",
       "\n",
       "  Client Registration Date Client City  Client Country Client Currency  \\\n",
       "0               2014-04-11       Amman              67             USD   \n",
       "1               2021-07-06  Kensington             127             GBP   \n",
       "2               2018-05-11  Manchester             127             GBP   \n",
       "3               2023-04-06      London             127             GBP   \n",
       "4               2014-02-13     Cardiff             127             GBP   \n",
       "\n",
       "   Client Job Title  \n",
       "0              1630  \n",
       "1              1456  \n",
       "2              1490  \n",
       "3              1630  \n",
       "4               593  "
      ]
     },
     "execution_count": 33,
     "metadata": {},
     "output_type": "execute_result"
    }
   ],
   "source": [
    "df.head()"
   ]
  },
  {
   "cell_type": "code",
   "execution_count": 34,
   "id": "768e0aae",
   "metadata": {},
   "outputs": [],
   "source": [
    "df['Sub Category Name'].unique()\n",
    "df['Sub Category Name']=label.fit_transform(df['Sub Category Name'])\n",
    "df['Category Name'].unique()\n",
    "df['Category Name']=label.fit_transform(df['Category Name'])"
   ]
  },
  {
   "cell_type": "code",
   "execution_count": 35,
   "id": "81c1a1cd",
   "metadata": {},
   "outputs": [
    {
     "data": {
      "text/plain": [
       "0       fixed_price\n",
       "1            hourly\n",
       "2       fixed_price\n",
       "3       fixed_price\n",
       "4       fixed_price\n",
       "           ...     \n",
       "9647    fixed_price\n",
       "9648    fixed_price\n",
       "9649    fixed_price\n",
       "9650         hourly\n",
       "9651    fixed_price\n",
       "Name: Type, Length: 9652, dtype: object"
      ]
     },
     "execution_count": 35,
     "metadata": {},
     "output_type": "execute_result"
    }
   ],
   "source": [
    "target=m['Type']\n",
    "target"
   ]
  },
  {
   "cell_type": "code",
   "execution_count": 36,
   "id": "534c8615",
   "metadata": {},
   "outputs": [],
   "source": [
    "k=df[['Category Name','Experience','Sub Category Name','Currency','Budget','Location','Duration']]"
   ]
  },
  {
   "cell_type": "code",
   "execution_count": 37,
   "id": "3394157a",
   "metadata": {},
   "outputs": [
    {
     "data": {
      "text/html": [
       "<div>\n",
       "<style scoped>\n",
       "    .dataframe tbody tr th:only-of-type {\n",
       "        vertical-align: middle;\n",
       "    }\n",
       "\n",
       "    .dataframe tbody tr th {\n",
       "        vertical-align: top;\n",
       "    }\n",
       "\n",
       "    .dataframe thead th {\n",
       "        text-align: right;\n",
       "    }\n",
       "</style>\n",
       "<table border=\"1\" class=\"dataframe\">\n",
       "  <thead>\n",
       "    <tr style=\"text-align: right;\">\n",
       "      <th></th>\n",
       "      <th>Category Name</th>\n",
       "      <th>Experience</th>\n",
       "      <th>Sub Category Name</th>\n",
       "      <th>Currency</th>\n",
       "      <th>Budget</th>\n",
       "      <th>Location</th>\n",
       "      <th>Duration</th>\n",
       "    </tr>\n",
       "  </thead>\n",
       "  <tbody>\n",
       "    <tr>\n",
       "      <th>0</th>\n",
       "      <td>2</td>\n",
       "      <td>2</td>\n",
       "      <td>46</td>\n",
       "      <td>2</td>\n",
       "      <td>50</td>\n",
       "      <td>1</td>\n",
       "      <td>25</td>\n",
       "    </tr>\n",
       "    <tr>\n",
       "      <th>1</th>\n",
       "      <td>6</td>\n",
       "      <td>0</td>\n",
       "      <td>100</td>\n",
       "      <td>1</td>\n",
       "      <td>20</td>\n",
       "      <td>1</td>\n",
       "      <td>25</td>\n",
       "    </tr>\n",
       "    <tr>\n",
       "      <th>2</th>\n",
       "      <td>1</td>\n",
       "      <td>1</td>\n",
       "      <td>42</td>\n",
       "      <td>1</td>\n",
       "      <td>80</td>\n",
       "      <td>1</td>\n",
       "      <td>25</td>\n",
       "    </tr>\n",
       "    <tr>\n",
       "      <th>3</th>\n",
       "      <td>6</td>\n",
       "      <td>1</td>\n",
       "      <td>100</td>\n",
       "      <td>1</td>\n",
       "      <td>275</td>\n",
       "      <td>1</td>\n",
       "      <td>25</td>\n",
       "    </tr>\n",
       "    <tr>\n",
       "      <th>4</th>\n",
       "      <td>1</td>\n",
       "      <td>0</td>\n",
       "      <td>42</td>\n",
       "      <td>1</td>\n",
       "      <td>50</td>\n",
       "      <td>1</td>\n",
       "      <td>25</td>\n",
       "    </tr>\n",
       "    <tr>\n",
       "      <th>...</th>\n",
       "      <td>...</td>\n",
       "      <td>...</td>\n",
       "      <td>...</td>\n",
       "      <td>...</td>\n",
       "      <td>...</td>\n",
       "      <td>...</td>\n",
       "      <td>...</td>\n",
       "    </tr>\n",
       "    <tr>\n",
       "      <th>9647</th>\n",
       "      <td>8</td>\n",
       "      <td>0</td>\n",
       "      <td>21</td>\n",
       "      <td>1</td>\n",
       "      <td>50</td>\n",
       "      <td>1</td>\n",
       "      <td>25</td>\n",
       "    </tr>\n",
       "    <tr>\n",
       "      <th>9648</th>\n",
       "      <td>1</td>\n",
       "      <td>2</td>\n",
       "      <td>99</td>\n",
       "      <td>1</td>\n",
       "      <td>65</td>\n",
       "      <td>2</td>\n",
       "      <td>2</td>\n",
       "    </tr>\n",
       "    <tr>\n",
       "      <th>9649</th>\n",
       "      <td>6</td>\n",
       "      <td>0</td>\n",
       "      <td>25</td>\n",
       "      <td>1</td>\n",
       "      <td>50</td>\n",
       "      <td>1</td>\n",
       "      <td>25</td>\n",
       "    </tr>\n",
       "    <tr>\n",
       "      <th>9650</th>\n",
       "      <td>1</td>\n",
       "      <td>1</td>\n",
       "      <td>99</td>\n",
       "      <td>2</td>\n",
       "      <td>39</td>\n",
       "      <td>1</td>\n",
       "      <td>25</td>\n",
       "    </tr>\n",
       "    <tr>\n",
       "      <th>9651</th>\n",
       "      <td>0</td>\n",
       "      <td>1</td>\n",
       "      <td>1</td>\n",
       "      <td>1</td>\n",
       "      <td>75</td>\n",
       "      <td>1</td>\n",
       "      <td>25</td>\n",
       "    </tr>\n",
       "  </tbody>\n",
       "</table>\n",
       "<p>9652 rows × 7 columns</p>\n",
       "</div>"
      ],
      "text/plain": [
       "      Category Name  Experience  Sub Category Name  Currency  Budget  \\\n",
       "0                 2           2                 46         2      50   \n",
       "1                 6           0                100         1      20   \n",
       "2                 1           1                 42         1      80   \n",
       "3                 6           1                100         1     275   \n",
       "4                 1           0                 42         1      50   \n",
       "...             ...         ...                ...       ...     ...   \n",
       "9647              8           0                 21         1      50   \n",
       "9648              1           2                 99         1      65   \n",
       "9649              6           0                 25         1      50   \n",
       "9650              1           1                 99         2      39   \n",
       "9651              0           1                  1         1      75   \n",
       "\n",
       "      Location  Duration  \n",
       "0            1        25  \n",
       "1            1        25  \n",
       "2            1        25  \n",
       "3            1        25  \n",
       "4            1        25  \n",
       "...        ...       ...  \n",
       "9647         1        25  \n",
       "9648         2         2  \n",
       "9649         1        25  \n",
       "9650         1        25  \n",
       "9651         1        25  \n",
       "\n",
       "[9652 rows x 7 columns]"
      ]
     },
     "execution_count": 37,
     "metadata": {},
     "output_type": "execute_result"
    }
   ],
   "source": [
    "k"
   ]
  },
  {
   "cell_type": "code",
   "execution_count": 38,
   "id": "3f970795",
   "metadata": {},
   "outputs": [
    {
     "data": {
      "text/html": [
       "<style>#sk-container-id-1 {color: black;background-color: white;}#sk-container-id-1 pre{padding: 0;}#sk-container-id-1 div.sk-toggleable {background-color: white;}#sk-container-id-1 label.sk-toggleable__label {cursor: pointer;display: block;width: 100%;margin-bottom: 0;padding: 0.3em;box-sizing: border-box;text-align: center;}#sk-container-id-1 label.sk-toggleable__label-arrow:before {content: \"▸\";float: left;margin-right: 0.25em;color: #696969;}#sk-container-id-1 label.sk-toggleable__label-arrow:hover:before {color: black;}#sk-container-id-1 div.sk-estimator:hover label.sk-toggleable__label-arrow:before {color: black;}#sk-container-id-1 div.sk-toggleable__content {max-height: 0;max-width: 0;overflow: hidden;text-align: left;background-color: #f0f8ff;}#sk-container-id-1 div.sk-toggleable__content pre {margin: 0.2em;color: black;border-radius: 0.25em;background-color: #f0f8ff;}#sk-container-id-1 input.sk-toggleable__control:checked~div.sk-toggleable__content {max-height: 200px;max-width: 100%;overflow: auto;}#sk-container-id-1 input.sk-toggleable__control:checked~label.sk-toggleable__label-arrow:before {content: \"▾\";}#sk-container-id-1 div.sk-estimator input.sk-toggleable__control:checked~label.sk-toggleable__label {background-color: #d4ebff;}#sk-container-id-1 div.sk-label input.sk-toggleable__control:checked~label.sk-toggleable__label {background-color: #d4ebff;}#sk-container-id-1 input.sk-hidden--visually {border: 0;clip: rect(1px 1px 1px 1px);clip: rect(1px, 1px, 1px, 1px);height: 1px;margin: -1px;overflow: hidden;padding: 0;position: absolute;width: 1px;}#sk-container-id-1 div.sk-estimator {font-family: monospace;background-color: #f0f8ff;border: 1px dotted black;border-radius: 0.25em;box-sizing: border-box;margin-bottom: 0.5em;}#sk-container-id-1 div.sk-estimator:hover {background-color: #d4ebff;}#sk-container-id-1 div.sk-parallel-item::after {content: \"\";width: 100%;border-bottom: 1px solid gray;flex-grow: 1;}#sk-container-id-1 div.sk-label:hover label.sk-toggleable__label {background-color: #d4ebff;}#sk-container-id-1 div.sk-serial::before {content: \"\";position: absolute;border-left: 1px solid gray;box-sizing: border-box;top: 0;bottom: 0;left: 50%;z-index: 0;}#sk-container-id-1 div.sk-serial {display: flex;flex-direction: column;align-items: center;background-color: white;padding-right: 0.2em;padding-left: 0.2em;position: relative;}#sk-container-id-1 div.sk-item {position: relative;z-index: 1;}#sk-container-id-1 div.sk-parallel {display: flex;align-items: stretch;justify-content: center;background-color: white;position: relative;}#sk-container-id-1 div.sk-item::before, #sk-container-id-1 div.sk-parallel-item::before {content: \"\";position: absolute;border-left: 1px solid gray;box-sizing: border-box;top: 0;bottom: 0;left: 50%;z-index: -1;}#sk-container-id-1 div.sk-parallel-item {display: flex;flex-direction: column;z-index: 1;position: relative;background-color: white;}#sk-container-id-1 div.sk-parallel-item:first-child::after {align-self: flex-end;width: 50%;}#sk-container-id-1 div.sk-parallel-item:last-child::after {align-self: flex-start;width: 50%;}#sk-container-id-1 div.sk-parallel-item:only-child::after {width: 0;}#sk-container-id-1 div.sk-dashed-wrapped {border: 1px dashed gray;margin: 0 0.4em 0.5em 0.4em;box-sizing: border-box;padding-bottom: 0.4em;background-color: white;}#sk-container-id-1 div.sk-label label {font-family: monospace;font-weight: bold;display: inline-block;line-height: 1.2em;}#sk-container-id-1 div.sk-label-container {text-align: center;}#sk-container-id-1 div.sk-container {/* jupyter's `normalize.less` sets `[hidden] { display: none; }` but bootstrap.min.css set `[hidden] { display: none !important; }` so we also need the `!important` here to be able to override the default hidden behavior on the sphinx rendered scikit-learn.org. See: https://github.com/scikit-learn/scikit-learn/issues/21755 */display: inline-block !important;position: relative;}#sk-container-id-1 div.sk-text-repr-fallback {display: none;}</style><div id=\"sk-container-id-1\" class=\"sk-top-container\"><div class=\"sk-text-repr-fallback\"><pre>GaussianNB()</pre><b>In a Jupyter environment, please rerun this cell to show the HTML representation or trust the notebook. <br />On GitHub, the HTML representation is unable to render, please try loading this page with nbviewer.org.</b></div><div class=\"sk-container\" hidden><div class=\"sk-item\"><div class=\"sk-estimator sk-toggleable\"><input class=\"sk-toggleable__control sk-hidden--visually\" id=\"sk-estimator-id-1\" type=\"checkbox\" checked><label for=\"sk-estimator-id-1\" class=\"sk-toggleable__label sk-toggleable__label-arrow\">GaussianNB</label><div class=\"sk-toggleable__content\"><pre>GaussianNB()</pre></div></div></div></div></div>"
      ],
      "text/plain": [
       "GaussianNB()"
      ]
     },
     "execution_count": 38,
     "metadata": {},
     "output_type": "execute_result"
    }
   ],
   "source": [
    "from sklearn.naive_bayes import GaussianNB\n",
    "Classfier=GaussianNB()\n",
    "Classfier.fit(k,target)"
   ]
  },
  {
   "cell_type": "code",
   "execution_count": 39,
   "id": "e45971d4",
   "metadata": {},
   "outputs": [
    {
     "data": {
      "text/plain": [
       "0.5109821798590966"
      ]
     },
     "execution_count": 39,
     "metadata": {},
     "output_type": "execute_result"
    }
   ],
   "source": [
    "Classfier.score(k,target)"
   ]
  },
  {
   "cell_type": "code",
   "execution_count": 40,
   "id": "7e6e588b",
   "metadata": {},
   "outputs": [
    {
     "name": "stderr",
     "output_type": "stream",
     "text": [
      "C:\\Users\\Riyal_Rock\\AppData\\Local\\Programs\\Python\\Python39\\lib\\site-packages\\sklearn\\base.py:450: UserWarning: X does not have valid feature names, but GaussianNB was fitted with feature names\n",
      "  warnings.warn(\n"
     ]
    },
    {
     "data": {
      "text/plain": [
       "array(['hourly'], dtype='<U11')"
      ]
     },
     "execution_count": 40,
     "metadata": {},
     "output_type": "execute_result"
    }
   ],
   "source": [
    "Classfier.predict([[6,0,100,1,20,1,25]])   "
   ]
  },
  {
   "cell_type": "code",
   "execution_count": 78,
   "id": "999f573a",
   "metadata": {},
   "outputs": [],
   "source": [
    "from sklearn.preprocessing import StandardScaler\n",
    "scaler=StandardScaler()\n",
    "i=df['Experience']\n",
    "i=scaler.fit_transform(i.values.reshape(-1,1))\n",
    "j=target\n"
   ]
  },
  {
   "cell_type": "code",
   "execution_count": 86,
   "id": "4d5d58be",
   "metadata": {},
   "outputs": [],
   "source": [
    "from sklearn.model_selection import train_test_split\n",
    "itrain,itest,jtrain,jtest=train_test_split(i,j,test_size=0.7,random_state=4)\n"
   ]
  },
  {
   "cell_type": "code",
   "execution_count": 87,
   "id": "9b0c21d1",
   "metadata": {},
   "outputs": [
    {
     "data": {
      "text/plain": [
       "array([[0.87054127, 0.12945873],\n",
       "       [0.84942319, 0.15057681],\n",
       "       [0.84942319, 0.15057681],\n",
       "       ...,\n",
       "       [0.87054127, 0.12945873],\n",
       "       [0.84942319, 0.15057681],\n",
       "       [0.82188245, 0.17811755]])"
      ]
     },
     "execution_count": 87,
     "metadata": {},
     "output_type": "execute_result"
    }
   ],
   "source": [
    "from sklearn.naive_bayes import GaussianNB\n",
    "classifier=GaussianNB()\n",
    "classifier.fit(itrain,jtrain)\n",
    "classifier.predict_proba(itest)"
   ]
  },
  {
   "cell_type": "code",
   "execution_count": 88,
   "id": "45f43d89",
   "metadata": {},
   "outputs": [
    {
     "data": {
      "text/plain": [
       "array(['fixed_price', 'fixed_price', 'fixed_price', 'fixed_price',\n",
       "       'fixed_price'], dtype='<U11')"
      ]
     },
     "execution_count": 88,
     "metadata": {},
     "output_type": "execute_result"
    }
   ],
   "source": [
    "pred=classifier.predict(itest)\n",
    "pred[:5]"
   ]
  },
  {
   "cell_type": "code",
   "execution_count": null,
   "id": "cce5d7d2",
   "metadata": {},
   "outputs": [],
   "source": []
  }
 ],
 "metadata": {
  "kernelspec": {
   "display_name": "Python 3 (ipykernel)",
   "language": "python",
   "name": "python3"
  },
  "language_info": {
   "codemirror_mode": {
    "name": "ipython",
    "version": 3
   },
   "file_extension": ".py",
   "mimetype": "text/x-python",
   "name": "python",
   "nbconvert_exporter": "python",
   "pygments_lexer": "ipython3",
   "version": "3.9.7"
  }
 },
 "nbformat": 4,
 "nbformat_minor": 5
}
